{
 "cells": [
  {
   "cell_type": "code",
   "execution_count": 262,
   "id": "ec4e2158",
   "metadata": {},
   "outputs": [],
   "source": [
    "import numpy as np\n",
    "import pandas as pd\n",
    "import matplotlib.pyplot as plt\n",
    "import datetime\n",
    "%matplotlib inline\n",
    "import matplotlib.pyplot as plt\n",
    "import seaborn as sb"
   ]
  },
  {
   "cell_type": "code",
   "execution_count": 263,
   "id": "44d85adb",
   "metadata": {},
   "outputs": [
    {
     "data": {
      "text/html": [
       "<div>\n",
       "<style scoped>\n",
       "    .dataframe tbody tr th:only-of-type {\n",
       "        vertical-align: middle;\n",
       "    }\n",
       "\n",
       "    .dataframe tbody tr th {\n",
       "        vertical-align: top;\n",
       "    }\n",
       "\n",
       "    .dataframe thead th {\n",
       "        text-align: right;\n",
       "    }\n",
       "</style>\n",
       "<table border=\"1\" class=\"dataframe\">\n",
       "  <thead>\n",
       "    <tr style=\"text-align: right;\">\n",
       "      <th></th>\n",
       "      <th>Date</th>\n",
       "      <th>PFTEAAU LX Equity</th>\n",
       "      <th>CCASORI MK Equity</th>\n",
       "      <th>BBFTOP3 KY Equity</th>\n",
       "      <th>CRLCBUU LX Equity</th>\n",
       "      <th>BCUSDLF KK Equity</th>\n",
       "      <th>ALPCRDA LX Equity</th>\n",
       "      <th>UBSFLBI LX Equity</th>\n",
       "    </tr>\n",
       "  </thead>\n",
       "  <tbody>\n",
       "    <tr>\n",
       "      <th>0</th>\n",
       "      <td>4/17/2020</td>\n",
       "      <td>132.46</td>\n",
       "      <td>2.5766</td>\n",
       "      <td>1275.83</td>\n",
       "      <td>10.69</td>\n",
       "      <td>10.76</td>\n",
       "      <td>116.33</td>\n",
       "      <td>146.37</td>\n",
       "    </tr>\n",
       "    <tr>\n",
       "      <th>1</th>\n",
       "      <td>4/24/2020</td>\n",
       "      <td>132.46</td>\n",
       "      <td>2.5808</td>\n",
       "      <td>1276.46</td>\n",
       "      <td>10.69</td>\n",
       "      <td>10.77</td>\n",
       "      <td>117.05</td>\n",
       "      <td>146.42</td>\n",
       "    </tr>\n",
       "    <tr>\n",
       "      <th>2</th>\n",
       "      <td>2020-01-05 00:00:00</td>\n",
       "      <td>132.19</td>\n",
       "      <td>2.5811</td>\n",
       "      <td>1276.78</td>\n",
       "      <td>10.68</td>\n",
       "      <td>10.77</td>\n",
       "      <td>116.80</td>\n",
       "      <td>146.87</td>\n",
       "    </tr>\n",
       "    <tr>\n",
       "      <th>3</th>\n",
       "      <td>2020-08-05 00:00:00</td>\n",
       "      <td>132.19</td>\n",
       "      <td>2.5871</td>\n",
       "      <td>1278.59</td>\n",
       "      <td>10.71</td>\n",
       "      <td>10.77</td>\n",
       "      <td>116.74</td>\n",
       "      <td>147.04</td>\n",
       "    </tr>\n",
       "    <tr>\n",
       "      <th>4</th>\n",
       "      <td>5/15/2020</td>\n",
       "      <td>132.19</td>\n",
       "      <td>2.5927</td>\n",
       "      <td>1279.82</td>\n",
       "      <td>10.68</td>\n",
       "      <td>10.78</td>\n",
       "      <td>117.38</td>\n",
       "      <td>146.93</td>\n",
       "    </tr>\n",
       "  </tbody>\n",
       "</table>\n",
       "</div>"
      ],
      "text/plain": [
       "                  Date  PFTEAAU LX Equity  CCASORI MK Equity  \\\n",
       "0            4/17/2020             132.46             2.5766   \n",
       "1            4/24/2020             132.46             2.5808   \n",
       "2  2020-01-05 00:00:00             132.19             2.5811   \n",
       "3  2020-08-05 00:00:00             132.19             2.5871   \n",
       "4            5/15/2020             132.19             2.5927   \n",
       "\n",
       "   BBFTOP3 KY Equity  CRLCBUU LX Equity  BCUSDLF KK Equity  ALPCRDA LX Equity  \\\n",
       "0            1275.83              10.69              10.76             116.33   \n",
       "1            1276.46              10.69              10.77             117.05   \n",
       "2            1276.78              10.68              10.77             116.80   \n",
       "3            1278.59              10.71              10.77             116.74   \n",
       "4            1279.82              10.68              10.78             117.38   \n",
       "\n",
       "   UBSFLBI LX Equity  \n",
       "0             146.37  \n",
       "1             146.42  \n",
       "2             146.87  \n",
       "3             147.04  \n",
       "4             146.93  "
      ]
     },
     "execution_count": 263,
     "metadata": {},
     "output_type": "execute_result"
    }
   ],
   "source": [
    "df=pd.read_excel('E:/MSc FINTECH/Artificial Intelligence and Machine Learning/AIML Final file.xlsx')\n",
    "df.head()"
   ]
  },
  {
   "cell_type": "code",
   "execution_count": 264,
   "id": "48535707",
   "metadata": {},
   "outputs": [],
   "source": [
    "df.reset_index(drop=True, inplace=True)\n",
    "Data=pd.DataFrame(df)\n",
    "datetime_series = pd.to_datetime(df['Date'])\n",
    "datetime_index = pd.DatetimeIndex(datetime_series.values)\n",
    "df=df.set_index(datetime_index)\n",
    "df.drop('Date',axis=1,inplace=True)"
   ]
  },
  {
   "cell_type": "code",
   "execution_count": 265,
   "id": "e9d22270",
   "metadata": {},
   "outputs": [
    {
     "data": {
      "text/html": [
       "<div>\n",
       "<style scoped>\n",
       "    .dataframe tbody tr th:only-of-type {\n",
       "        vertical-align: middle;\n",
       "    }\n",
       "\n",
       "    .dataframe tbody tr th {\n",
       "        vertical-align: top;\n",
       "    }\n",
       "\n",
       "    .dataframe thead th {\n",
       "        text-align: right;\n",
       "    }\n",
       "</style>\n",
       "<table border=\"1\" class=\"dataframe\">\n",
       "  <thead>\n",
       "    <tr style=\"text-align: right;\">\n",
       "      <th></th>\n",
       "      <th>PFTEAAU LX Equity</th>\n",
       "      <th>CCASORI MK Equity</th>\n",
       "      <th>BBFTOP3 KY Equity</th>\n",
       "      <th>CRLCBUU LX Equity</th>\n",
       "      <th>BCUSDLF KK Equity</th>\n",
       "      <th>ALPCRDA LX Equity</th>\n",
       "      <th>UBSFLBI LX Equity</th>\n",
       "    </tr>\n",
       "  </thead>\n",
       "  <tbody>\n",
       "    <tr>\n",
       "      <th>2020-04-17</th>\n",
       "      <td>NaN</td>\n",
       "      <td>NaN</td>\n",
       "      <td>NaN</td>\n",
       "      <td>NaN</td>\n",
       "      <td>NaN</td>\n",
       "      <td>NaN</td>\n",
       "      <td>NaN</td>\n",
       "    </tr>\n",
       "    <tr>\n",
       "      <th>2020-04-24</th>\n",
       "      <td>0.00000</td>\n",
       "      <td>0.001629</td>\n",
       "      <td>0.000494</td>\n",
       "      <td>0.000000</td>\n",
       "      <td>0.000929</td>\n",
       "      <td>0.006170</td>\n",
       "      <td>0.000342</td>\n",
       "    </tr>\n",
       "    <tr>\n",
       "      <th>2020-01-05</th>\n",
       "      <td>-0.00204</td>\n",
       "      <td>0.000116</td>\n",
       "      <td>0.000251</td>\n",
       "      <td>-0.000936</td>\n",
       "      <td>0.000000</td>\n",
       "      <td>-0.002138</td>\n",
       "      <td>0.003069</td>\n",
       "    </tr>\n",
       "    <tr>\n",
       "      <th>2020-08-05</th>\n",
       "      <td>0.00000</td>\n",
       "      <td>0.002322</td>\n",
       "      <td>0.001417</td>\n",
       "      <td>0.002805</td>\n",
       "      <td>0.000000</td>\n",
       "      <td>-0.000514</td>\n",
       "      <td>0.001157</td>\n",
       "    </tr>\n",
       "    <tr>\n",
       "      <th>2020-05-15</th>\n",
       "      <td>0.00000</td>\n",
       "      <td>0.002162</td>\n",
       "      <td>0.000962</td>\n",
       "      <td>-0.002805</td>\n",
       "      <td>0.000928</td>\n",
       "      <td>0.005467</td>\n",
       "      <td>-0.000748</td>\n",
       "    </tr>\n",
       "  </tbody>\n",
       "</table>\n",
       "</div>"
      ],
      "text/plain": [
       "            PFTEAAU LX Equity  CCASORI MK Equity  BBFTOP3 KY Equity  \\\n",
       "2020-04-17                NaN                NaN                NaN   \n",
       "2020-04-24            0.00000           0.001629           0.000494   \n",
       "2020-01-05           -0.00204           0.000116           0.000251   \n",
       "2020-08-05            0.00000           0.002322           0.001417   \n",
       "2020-05-15            0.00000           0.002162           0.000962   \n",
       "\n",
       "            CRLCBUU LX Equity  BCUSDLF KK Equity  ALPCRDA LX Equity  \\\n",
       "2020-04-17                NaN                NaN                NaN   \n",
       "2020-04-24           0.000000           0.000929           0.006170   \n",
       "2020-01-05          -0.000936           0.000000          -0.002138   \n",
       "2020-08-05           0.002805           0.000000          -0.000514   \n",
       "2020-05-15          -0.002805           0.000928           0.005467   \n",
       "\n",
       "            UBSFLBI LX Equity  \n",
       "2020-04-17                NaN  \n",
       "2020-04-24           0.000342  \n",
       "2020-01-05           0.003069  \n",
       "2020-08-05           0.001157  \n",
       "2020-05-15          -0.000748  "
      ]
     },
     "execution_count": 265,
     "metadata": {},
     "output_type": "execute_result"
    }
   ],
   "source": [
    "# Log of percentage change of all stocks in the list\n",
    "Ret= df.pct_change().apply(lambda x: np.log(1+x)) # CONVERT TO RETURN\n",
    "Ret.head()"
   ]
  },
  {
   "cell_type": "code",
   "execution_count": 266,
   "id": "0c63b313",
   "metadata": {},
   "outputs": [
    {
     "name": "stdout",
     "output_type": "stream",
     "text": [
      "PFTEAAU LX Equity    0.155346\n",
      "CCASORI MK Equity    0.077905\n",
      "BBFTOP3 KY Equity    0.059322\n",
      "CRLCBUU LX Equity    0.047072\n",
      "BCUSDLF KK Equity    0.007076\n",
      "ALPCRDA LX Equity    0.091994\n",
      "UBSFLBI LX Equity    0.022493\n",
      "dtype: float64\n"
     ]
    }
   ],
   "source": [
    "Ann_Ret = Ret.mean()*52\n",
    "print (Ann_Ret)"
   ]
  },
  {
   "cell_type": "code",
   "execution_count": 267,
   "id": "8efcfee6",
   "metadata": {},
   "outputs": [
    {
     "name": "stdout",
     "output_type": "stream",
     "text": [
      "PFTEAAU LX Equity    0.053876\n",
      "CCASORI MK Equity    0.016388\n",
      "BBFTOP3 KY Equity    0.011316\n",
      "CRLCBUU LX Equity    0.017065\n",
      "BCUSDLF KK Equity    0.002373\n",
      "ALPCRDA LX Equity    0.027841\n",
      "UBSFLBI LX Equity    0.013572\n",
      "dtype: float64\n"
     ]
    }
   ],
   "source": [
    "Ann_Risk=Ret.std()*(52)**(0.5)\n",
    "print(Ann_Risk)"
   ]
  },
  {
   "cell_type": "code",
   "execution_count": 268,
   "id": "d3198ca3",
   "metadata": {},
   "outputs": [
    {
     "data": {
      "text/plain": [
       "PFTEAAU LX Equity    0.121749\n",
       "CCASORI MK Equity    0.038140\n",
       "BBFTOP3 KY Equity    0.040926\n",
       "CRLCBUU LX Equity    0.022385\n",
       "BCUSDLF KK Equity    0.002768\n",
       "ALPCRDA LX Equity    0.019602\n",
       "UBSFLBI LX Equity    0.004839\n",
       "dtype: float64"
      ]
     },
     "execution_count": 268,
     "metadata": {},
     "output_type": "execute_result"
    }
   ],
   "source": [
    "# Yearly returns for individual companies\n",
    "ind_er = df.resample('Y').last().pct_change().mean()\n",
    "ind_er"
   ]
  },
  {
   "cell_type": "code",
   "execution_count": 269,
   "id": "623068cd",
   "metadata": {},
   "outputs": [],
   "source": [
    "Ret_Covar = Ret.cov()\n",
    "#print(Ret_Covar)"
   ]
  },
  {
   "cell_type": "code",
   "execution_count": 270,
   "id": "5c55a2da",
   "metadata": {},
   "outputs": [],
   "source": [
    "Ret_Corr = Ret.corr()\n",
    "#print(Ret_Corr)"
   ]
  },
  {
   "cell_type": "code",
   "execution_count": 271,
   "id": "26ea526a",
   "metadata": {},
   "outputs": [],
   "source": [
    "# Log of percentage change and creeate Covariance matrix\n",
    "cov_matrix = df.pct_change().apply(lambda x: np.log(1+x)).cov()\n",
    "#cov_matrix"
   ]
  },
  {
   "cell_type": "code",
   "execution_count": 272,
   "id": "f47c8316",
   "metadata": {},
   "outputs": [
    {
     "name": "stdout",
     "output_type": "stream",
     "text": [
      "PFTEAAU LX Equity    2.883400\n",
      "CCASORI MK Equity    4.753824\n",
      "BBFTOP3 KY Equity    5.242223\n",
      "CRLCBUU LX Equity    2.758347\n",
      "BCUSDLF KK Equity    2.982097\n",
      "ALPCRDA LX Equity    3.304219\n",
      "UBSFLBI LX Equity    1.657342\n",
      "dtype: float64\n"
     ]
    }
   ],
   "source": [
    "Ret_risk=(Ann_Ret/Ann_Risk)\n",
    "print(Ret_risk)"
   ]
  },
  {
   "cell_type": "code",
   "execution_count": 273,
   "id": "f968ec45",
   "metadata": {},
   "outputs": [
    {
     "data": {
      "image/png": "[encoded data removed]",
      "text/plain": [
       "<Figure size 432x288 with 1 Axes>"
      ]
     },
     "metadata": {
      "needs_background": "light"
     },
     "output_type": "display_data"
    }
   ],
   "source": [
    "x=Ann_Risk\n",
    "y=ind_er\n",
    "plt.scatter(x,y)\n",
    "plt.show()"
   ]
  },
  {
   "cell_type": "code",
   "execution_count": 274,
   "id": "001688ce",
   "metadata": {},
   "outputs": [
    {
     "data": {
      "text/html": [
       "<div>\n",
       "<style scoped>\n",
       "    .dataframe tbody tr th:only-of-type {\n",
       "        vertical-align: middle;\n",
       "    }\n",
       "\n",
       "    .dataframe tbody tr th {\n",
       "        vertical-align: top;\n",
       "    }\n",
       "\n",
       "    .dataframe thead th {\n",
       "        text-align: right;\n",
       "    }\n",
       "</style>\n",
       "<table border=\"1\" class=\"dataframe\">\n",
       "  <thead>\n",
       "    <tr style=\"text-align: right;\">\n",
       "      <th></th>\n",
       "      <th>Ann Returns</th>\n",
       "      <th>Ann Risk</th>\n",
       "      <th>Return Risk Ratio</th>\n",
       "    </tr>\n",
       "  </thead>\n",
       "  <tbody>\n",
       "    <tr>\n",
       "      <th>PFTEAAU LX Equity</th>\n",
       "      <td>0.155346</td>\n",
       "      <td>0.053876</td>\n",
       "      <td>2.883400</td>\n",
       "    </tr>\n",
       "    <tr>\n",
       "      <th>CCASORI MK Equity</th>\n",
       "      <td>0.077905</td>\n",
       "      <td>0.016388</td>\n",
       "      <td>4.753824</td>\n",
       "    </tr>\n",
       "    <tr>\n",
       "      <th>BBFTOP3 KY Equity</th>\n",
       "      <td>0.059322</td>\n",
       "      <td>0.011316</td>\n",
       "      <td>5.242223</td>\n",
       "    </tr>\n",
       "    <tr>\n",
       "      <th>CRLCBUU LX Equity</th>\n",
       "      <td>0.047072</td>\n",
       "      <td>0.017065</td>\n",
       "      <td>2.758347</td>\n",
       "    </tr>\n",
       "    <tr>\n",
       "      <th>BCUSDLF KK Equity</th>\n",
       "      <td>0.007076</td>\n",
       "      <td>0.002373</td>\n",
       "      <td>2.982097</td>\n",
       "    </tr>\n",
       "    <tr>\n",
       "      <th>ALPCRDA LX Equity</th>\n",
       "      <td>0.091994</td>\n",
       "      <td>0.027841</td>\n",
       "      <td>3.304219</td>\n",
       "    </tr>\n",
       "    <tr>\n",
       "      <th>UBSFLBI LX Equity</th>\n",
       "      <td>0.022493</td>\n",
       "      <td>0.013572</td>\n",
       "      <td>1.657342</td>\n",
       "    </tr>\n",
       "  </tbody>\n",
       "</table>\n",
       "</div>"
      ],
      "text/plain": [
       "                   Ann Returns  Ann Risk  Return Risk Ratio\n",
       "PFTEAAU LX Equity     0.155346  0.053876           2.883400\n",
       "CCASORI MK Equity     0.077905  0.016388           4.753824\n",
       "BBFTOP3 KY Equity     0.059322  0.011316           5.242223\n",
       "CRLCBUU LX Equity     0.047072  0.017065           2.758347\n",
       "BCUSDLF KK Equity     0.007076  0.002373           2.982097\n",
       "ALPCRDA LX Equity     0.091994  0.027841           3.304219\n",
       "UBSFLBI LX Equity     0.022493  0.013572           1.657342"
      ]
     },
     "execution_count": 274,
     "metadata": {},
     "output_type": "execute_result"
    }
   ],
   "source": [
    "assets = pd.concat([Ann_Ret,Ann_Risk,Ret_risk], axis=1)\n",
    "assets.columns = ['Ann Returns', 'Ann Risk', 'Return Risk Ratio']\n",
    "assets"
   ]
  },
  {
   "cell_type": "code",
   "execution_count": 275,
   "id": "da04a68b",
   "metadata": {},
   "outputs": [
    {
     "data": {
      "text/plain": [
       "<AxesSubplot:>"
      ]
     },
     "execution_count": 275,
     "metadata": {},
     "output_type": "execute_result"
    },
    {
     "data": {
      "image/png": "[encoded data removed]",
      "text/plain": [
       "<Figure size 792x576 with 2 Axes>"
      ]
     },
     "metadata": {
      "needs_background": "light"
     },
     "output_type": "display_data"
    }
   ],
   "source": [
    "plt.subplots(figsize=(11, 8))\n",
    "sb.heatmap(Ret_Corr, linewidths=.5, )"
   ]
  },
  {
   "cell_type": "code",
   "execution_count": 276,
   "id": "e4c98fd6",
   "metadata": {},
   "outputs": [
    {
     "name": "stdout",
     "output_type": "stream",
     "text": [
      "1.217419703109322e-06\n",
      "6.330582456168475e-05\n"
     ]
    }
   ],
   "source": [
    "w = [0.142857]*7\n",
    "w= {'PFTEAAU LX Equity':0.142857, 'CCASORI MK Equity':0.142857, 'BBFTOP3 KY Equity':0.142857, 'CRLCBUU LX Equity':0.142857, 'BCUSDLF KK Equity':0.142857, 'ALPCRDA LX Equity':0.142857, 'PFGLAAU LX Equity':0.142857} \n",
    "port_var = Ret_Covar.mul(w, axis=0).mul(w, axis=1).sum().sum()\n",
    "Ann_port_std = (port_var*52)**(0.5)\n",
    "print (port_var)\n",
    "print (port_var*52)"
   ]
  },
  {
   "cell_type": "code",
   "execution_count": 277,
   "id": "835f898c",
   "metadata": {},
   "outputs": [
    {
     "data": {
      "text/plain": [
       "0.007956495746349945"
      ]
     },
     "execution_count": 277,
     "metadata": {},
     "output_type": "execute_result"
    }
   ],
   "source": [
    "Ann_port_std\n"
   ]
  },
  {
   "cell_type": "code",
   "execution_count": 278,
   "id": "3a48082c",
   "metadata": {},
   "outputs": [
    {
     "data": {
      "text/plain": [
       "0.06588673574444312"
      ]
     },
     "execution_count": 278,
     "metadata": {},
     "output_type": "execute_result"
    }
   ],
   "source": [
    "w = [0.142857]*7\n",
    "port_er = (w*Ann_Ret).sum()\n",
    "port_er"
   ]
  },
  {
   "cell_type": "code",
   "execution_count": 279,
   "id": "f93e363d",
   "metadata": {},
   "outputs": [],
   "source": [
    "p_ret = [] # Define an empty array for portfolio returns\n",
    "p_vol = [] # Define an empty array for portfolio volatility\n",
    "p_weights = [] # Define an empty array for asset weights\n",
    "num_assets = len(df.columns)\n",
    "num_portfolios = 10000"
   ]
  },
  {
   "cell_type": "code",
   "execution_count": 280,
   "id": "f49a7706",
   "metadata": {},
   "outputs": [],
   "source": [
    "for portfolio in range(num_portfolios):\n",
    "    weights = np.random.random(num_assets)\n",
    "    weights = weights/np.sum(weights)\n",
    "    p_weights.append(weights)\n",
    "    returns = np.dot(weights,Ann_Ret) \n",
    "    p_ret.append(returns)\n",
    "    var = Ret_Covar.mul(weights, axis=0).mul(weights, axis=1).sum().sum() # Portfolio Variance\n",
    "    sd = np.sqrt(var) #Daily standard deviation\n",
    "    ann_sd = sd*np.sqrt(52) #Annual standard deviation = volatility\n",
    "    p_vol.append(ann_sd)"
   ]
  },
  {
   "cell_type": "code",
   "execution_count": 281,
   "id": "7d7f43c1",
   "metadata": {},
   "outputs": [
    {
     "data": {
      "text/html": [
       "<div>\n",
       "<style scoped>\n",
       "    .dataframe tbody tr th:only-of-type {\n",
       "        vertical-align: middle;\n",
       "    }\n",
       "\n",
       "    .dataframe tbody tr th {\n",
       "        vertical-align: top;\n",
       "    }\n",
       "\n",
       "    .dataframe thead th {\n",
       "        text-align: right;\n",
       "    }\n",
       "</style>\n",
       "<table border=\"1\" class=\"dataframe\">\n",
       "  <thead>\n",
       "    <tr style=\"text-align: right;\">\n",
       "      <th></th>\n",
       "      <th>Returns</th>\n",
       "      <th>Volatility</th>\n",
       "      <th>PFTEAAU LX Equity weight</th>\n",
       "      <th>CCASORI MK Equity weight</th>\n",
       "      <th>BBFTOP3 KY Equity weight</th>\n",
       "      <th>CRLCBUU LX Equity weight</th>\n",
       "      <th>BCUSDLF KK Equity weight</th>\n",
       "      <th>ALPCRDA LX Equity weight</th>\n",
       "      <th>UBSFLBI LX Equity weight</th>\n",
       "    </tr>\n",
       "  </thead>\n",
       "  <tbody>\n",
       "    <tr>\n",
       "      <th>0</th>\n",
       "      <td>0.079384</td>\n",
       "      <td>0.012283</td>\n",
       "      <td>0.210601</td>\n",
       "      <td>0.029949</td>\n",
       "      <td>0.244425</td>\n",
       "      <td>0.153595</td>\n",
       "      <td>0.092009</td>\n",
       "      <td>0.228683</td>\n",
       "      <td>0.040739</td>\n",
       "    </tr>\n",
       "    <tr>\n",
       "      <th>1</th>\n",
       "      <td>0.057048</td>\n",
       "      <td>0.006162</td>\n",
       "      <td>0.059178</td>\n",
       "      <td>0.209029</td>\n",
       "      <td>0.135648</td>\n",
       "      <td>0.118238</td>\n",
       "      <td>0.266833</td>\n",
       "      <td>0.162903</td>\n",
       "      <td>0.048171</td>\n",
       "    </tr>\n",
       "    <tr>\n",
       "      <th>2</th>\n",
       "      <td>0.059884</td>\n",
       "      <td>0.009794</td>\n",
       "      <td>0.094912</td>\n",
       "      <td>0.076058</td>\n",
       "      <td>0.033016</td>\n",
       "      <td>0.106250</td>\n",
       "      <td>0.120665</td>\n",
       "      <td>0.267625</td>\n",
       "      <td>0.301474</td>\n",
       "    </tr>\n",
       "    <tr>\n",
       "      <th>3</th>\n",
       "      <td>0.059223</td>\n",
       "      <td>0.009285</td>\n",
       "      <td>0.067710</td>\n",
       "      <td>0.018923</td>\n",
       "      <td>0.126508</td>\n",
       "      <td>0.149532</td>\n",
       "      <td>0.135287</td>\n",
       "      <td>0.294050</td>\n",
       "      <td>0.207989</td>\n",
       "    </tr>\n",
       "    <tr>\n",
       "      <th>4</th>\n",
       "      <td>0.053592</td>\n",
       "      <td>0.006355</td>\n",
       "      <td>0.002269</td>\n",
       "      <td>0.205280</td>\n",
       "      <td>0.253617</td>\n",
       "      <td>0.164781</td>\n",
       "      <td>0.203958</td>\n",
       "      <td>0.132029</td>\n",
       "      <td>0.038066</td>\n",
       "    </tr>\n",
       "  </tbody>\n",
       "</table>\n",
       "</div>"
      ],
      "text/plain": [
       "    Returns  Volatility  PFTEAAU LX Equity weight  CCASORI MK Equity weight  \\\n",
       "0  0.079384    0.012283                  0.210601                  0.029949   \n",
       "1  0.057048    0.006162                  0.059178                  0.209029   \n",
       "2  0.059884    0.009794                  0.094912                  0.076058   \n",
       "3  0.059223    0.009285                  0.067710                  0.018923   \n",
       "4  0.053592    0.006355                  0.002269                  0.205280   \n",
       "\n",
       "   BBFTOP3 KY Equity weight  CRLCBUU LX Equity weight  \\\n",
       "0                  0.244425                  0.153595   \n",
       "1                  0.135648                  0.118238   \n",
       "2                  0.033016                  0.106250   \n",
       "3                  0.126508                  0.149532   \n",
       "4                  0.253617                  0.164781   \n",
       "\n",
       "   BCUSDLF KK Equity weight  ALPCRDA LX Equity weight  \\\n",
       "0                  0.092009                  0.228683   \n",
       "1                  0.266833                  0.162903   \n",
       "2                  0.120665                  0.267625   \n",
       "3                  0.135287                  0.294050   \n",
       "4                  0.203958                  0.132029   \n",
       "\n",
       "   UBSFLBI LX Equity weight  \n",
       "0                  0.040739  \n",
       "1                  0.048171  \n",
       "2                  0.301474  \n",
       "3                  0.207989  \n",
       "4                  0.038066  "
      ]
     },
     "execution_count": 281,
     "metadata": {},
     "output_type": "execute_result"
    }
   ],
   "source": [
    "data = {'Returns':p_ret, 'Volatility':p_vol}\n",
    "for counter, symbol in enumerate(df.columns.tolist()):\n",
    " #print(counter, symbol)\n",
    " data[symbol+' weight'] = [w[counter] for w in p_weights]\n",
    "portfolios = pd.DataFrame(data)\n",
    "portfolios.head() # Dataframe of the 10000 portfolios created"
   ]
  },
  {
   "cell_type": "code",
   "execution_count": 282,
   "id": "aa7d91ba",
   "metadata": {},
   "outputs": [
    {
     "data": {
      "text/plain": [
       "<AxesSubplot:xlabel='Volatility', ylabel='Returns'>"
      ]
     },
     "execution_count": 282,
     "metadata": {},
     "output_type": "execute_result"
    },
    {
     "data": {
      "image/png": "[encoded data removed]",
      "text/plain": [
       "<Figure size 360x360 with 1 Axes>"
      ]
     },
     "metadata": {
      "needs_background": "light"
     },
     "output_type": "display_data"
    }
   ],
   "source": [
    "# Plot efficient frontier\n",
    "portfolios.plot.scatter(x='Volatility', y='Returns', marker='o', s=10, alpha=0.3, grid=True, figsize=[5,5])"
   ]
  },
  {
   "cell_type": "code",
   "execution_count": 283,
   "id": "ec604e45",
   "metadata": {},
   "outputs": [
    {
     "data": {
      "text/plain": [
       "Returns                     0.038962\n",
       "Volatility                  0.004361\n",
       "PFTEAAU LX Equity weight    0.057604\n",
       "CCASORI MK Equity weight    0.088863\n",
       "BBFTOP3 KY Equity weight    0.297307\n",
       "CRLCBUU LX Equity weight    0.008616\n",
       "BCUSDLF KK Equity weight    0.481376\n",
       "ALPCRDA LX Equity weight    0.002191\n",
       "UBSFLBI LX Equity weight    0.064042\n",
       "Name: 9638, dtype: float64"
      ]
     },
     "execution_count": 283,
     "metadata": {},
     "output_type": "execute_result"
    }
   ],
   "source": [
    "min_vol_port = portfolios.iloc[portfolios['Volatility'].idxmin()]\n",
    "# idxmin() gives us the minimum value in the column specified.\n",
    "min_vol_port"
   ]
  },
  {
   "cell_type": "code",
   "execution_count": 284,
   "id": "93dbda8b",
   "metadata": {},
   "outputs": [
    {
     "data": {
      "text/plain": [
       "<matplotlib.collections.PathCollection at 0x134a87b4fa0>"
      ]
     },
     "execution_count": 284,
     "metadata": {},
     "output_type": "execute_result"
    },
    {
     "data": {
      "image/png": "[encoded data removed]",
      "text/plain": [
       "<Figure size 432x360 with 1 Axes>"
      ]
     },
     "metadata": {
      "needs_background": "light"
     },
     "output_type": "display_data"
    }
   ],
   "source": [
    "# plotting the minimum volatility portfolio\n",
    "plt.subplots(figsize=[6,5])\n",
    "plt.scatter(portfolios['Volatility'], portfolios['Returns'],marker='o', s=10, alpha=0.3)\n",
    "plt.scatter(min_vol_port[1], min_vol_port[0], color='r', marker='*', s=200)"
   ]
  },
  {
   "cell_type": "code",
   "execution_count": 285,
   "id": "16591b35",
   "metadata": {},
   "outputs": [
    {
     "data": {
      "text/plain": [
       "Returns                     0.073636\n",
       "Volatility                  0.007246\n",
       "PFTEAAU LX Equity weight    0.100347\n",
       "CCASORI MK Equity weight    0.225993\n",
       "BBFTOP3 KY Equity weight    0.300716\n",
       "CRLCBUU LX Equity weight    0.195609\n",
       "BCUSDLF KK Equity weight    0.005047\n",
       "ALPCRDA LX Equity weight    0.136460\n",
       "UBSFLBI LX Equity weight    0.035828\n",
       "Name: 9505, dtype: float64"
      ]
     },
     "execution_count": 285,
     "metadata": {},
     "output_type": "execute_result"
    }
   ],
   "source": [
    "# Finding the optimal portfolio\n",
    "rf = 0.01 # risk factor\n",
    "optimal_risky_port = portfolios.iloc[((portfolios['Returns']-rf)/portfolios['Volatility']).idxmax()]\n",
    "optimal_risky_port\n"
   ]
  },
  {
   "cell_type": "code",
   "execution_count": 286,
   "id": "f7776f5f",
   "metadata": {},
   "outputs": [
    {
     "data": {
      "text/plain": [
       "<matplotlib.collections.PathCollection at 0x134aad98f70>"
      ]
     },
     "execution_count": 286,
     "metadata": {},
     "output_type": "execute_result"
    },
    {
     "data": {
      "image/png": "[encoded data removed]",
      "text/plain": [
       "<Figure size 360x432 with 1 Axes>"
      ]
     },
     "metadata": {
      "needs_background": "light"
     },
     "output_type": "display_data"
    }
   ],
   "source": [
    "# Plotting optimal portfolio\n",
    "plt.subplots(figsize=(5, 6))\n",
    "plt.scatter(portfolios['Volatility'], portfolios['Returns'],marker='o', s=10, alpha=0.3)\n",
    "plt.scatter(min_vol_port[1], min_vol_port[0], color='r', marker='*', s=500)\n",
    "plt.scatter(optimal_risky_port[1], optimal_risky_port[0], color='g', marker='*', s=500)"
   ]
  },
  {
   "cell_type": "code",
   "execution_count": null,
   "id": "1657d4d4",
   "metadata": {},
   "outputs": [],
   "source": []
  },
  {
   "cell_type": "code",
   "execution_count": null,
   "id": "94e7bdd3",
   "metadata": {},
   "outputs": [],
   "source": []
  }
 ],
 "metadata": {
  "kernelspec": {
   "display_name": "Python 3 (ipykernel)",
   "language": "python",
   "name": "python3"
  },
  "language_info": {
   "codemirror_mode": {
    "name": "ipython",
    "version": 3
   },
   "file_extension": ".py",
   "mimetype": "text/x-python",
   "name": "python",
   "nbconvert_exporter": "python",
   "pygments_lexer": "ipython3",
   "version": "3.9.7"
  }
 },
 "nbformat": 4,
 "nbformat_minor": 5
}
